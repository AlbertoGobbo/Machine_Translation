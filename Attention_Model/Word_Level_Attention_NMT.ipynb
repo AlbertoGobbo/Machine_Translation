{
  "nbformat": 4,
  "nbformat_minor": 0,
  "metadata": {
    "colab": {
      "name": "Word_Level_Attention_NMT.ipynb",
      "provenance": [],
      "collapsed_sections": []
    },
    "kernelspec": {
      "name": "python3",
      "display_name": "Python 3"
    },
    "language_info": {
      "name": "python"
    },
    "accelerator": "GPU"
  },
  "cells": [
    {
      "cell_type": "markdown",
      "metadata": {
        "id": "sLnvqOPh0FCl"
      },
      "source": [
        "**Word-level Attention model**\n",
        "\n",
        "---"
      ]
    },
    {
      "cell_type": "code",
      "metadata": {
        "id": "W-1LS4m-Z6Fu"
      },
      "source": [
        "import numpy as np\n",
        "import tensorflow as tf\n",
        "import matplotlib.pyplot as plt\n",
        "import pandas as pd\n",
        "import os\n",
        "import re\n",
        "import string\n",
        "\n",
        "from tensorflow import keras\n",
        "from tensorflow.keras.models import Model, load_model\n",
        "from tensorflow.keras.layers import Input, Embedding, LSTM, Concatenate, TimeDistributed, Dense\n",
        "from tensorflow.keras.callbacks import ModelCheckpoint, EarlyStopping\n",
        "from tensorflow.keras.utils import plot_model \n",
        "from attention import BahdanauAttention\n",
        "# from gensim.models import Word2Vec, KeyedVectors\n",
        "from nltk.translate.bleu_score import corpus_bleu, SmoothingFunction\n",
        "from google.colab import drive\n",
        "from string import punctuation"
      ],
      "execution_count": null,
      "outputs": []
    },
    {
      "cell_type": "code",
      "metadata": {
        "id": "Sx6MzwD4AxkP"
      },
      "source": [
        "!!curl -O http://www.manythings.org/anki/ita-eng.zip\n",
        "!!unzip ita-eng.zip\n",
        "\n",
        "drive.mount('/content/drive')"
      ],
      "execution_count": null,
      "outputs": []
    },
    {
      "cell_type": "code",
      "metadata": {
        "id": "eSqyCP5sce8N"
      },
      "source": [
        "BATCH_SIZE = 64\n",
        "EPOCHS = 100\n",
        "LSTM_NODES = 256\n",
        "NUMBER_SENTENCES = 20000\n",
        "EMBEDDING_SIZE = 100\n",
        "NUMBER_SENTENCES_TEST = 2000"
      ],
      "execution_count": null,
      "outputs": []
    },
    {
      "cell_type": "code",
      "metadata": {
        "id": "UvTnj3dMbmER"
      },
      "source": [
        "input_sentences = [] # All original English sentences\n",
        "output_sentences = [] # All actual target Italian sentences with an end-of-sentences token\n",
        "input_sentences_test = []\n",
        "output_sentences_test = []\n",
        "\n",
        "count_rows = 1\n",
        "with open(os.path.join('ita.txt'), 'r', encoding='utf-8') as f:\n",
        "    while count_rows <= (NUMBER_SENTENCES + NUMBER_SENTENCES_TEST):\n",
        "        row = f.readline().rstrip().split(\"\\t\")\n",
        "        if count_rows <= NUMBER_SENTENCES:\n",
        "            input_sentences.append(row[0])\n",
        "            output_sentences.append(\"<sos> \" + row[1] + \" <eos>\")\n",
        "        else:\n",
        "            input_sentences_test.append(row[0])\n",
        "            output_sentences_test.append(row[1])\n",
        "\n",
        "        count_rows += 1"
      ],
      "execution_count": null,
      "outputs": []
    },
    {
      "cell_type": "code",
      "metadata": {
        "id": "ezETThBBcw12"
      },
      "source": [
        "# print(\"num_samples_input: \", len(input_sentences))\n",
        "# print(\"num_samples_output: \", len(output_sentences))\n",
        "# print(\"num_samples_output_input: \", len(output_sentences_inputs))\n",
        "# print(\"num_samples_input_test: \", len(input_sentences_test))\n",
        "# print(\"num_samples_output_test: \", len(output_sentences_test))\n",
        "# print(input_sentences[19999])\n",
        "# print(output_sentences[19999])\n",
        "# print(output_sentences_inputs[19999])\n",
        "# print(input_sentences_test[0])\n",
        "# print(output_sentences_test[0])"
      ],
      "execution_count": null,
      "outputs": []
    },
    {
      "cell_type": "code",
      "metadata": {
        "id": "EAU00TSGi8Cp"
      },
      "source": [
        "# Make all words lowercase\n",
        "input_sentences = [x.lower() for x in input_sentences]\n",
        "output_sentences = [x.lower() for x in output_sentences]\n",
        "input_sentences_test = [x.lower() for x in input_sentences_test]\n",
        "output_sentences_test = [x.lower() for x in output_sentences_test]\n",
        "\n",
        "# Exclude all punctuation, that is !\"#$%&'()*+, -./:;<=>?@[\\]^_`{|}~\n",
        "exclude = set(string.punctuation)\n",
        "input_sentences = [''.join(ch for ch in x if ch not in exclude) for x in input_sentences]\n",
        "output_sentences = [''.join(ch for ch in x if ch not in exclude) for x in output_sentences]\n",
        "input_sentences_test = [''.join(ch for ch in x if ch not in exclude) for x in input_sentences_test]\n",
        "output_sentences_test = [''.join(ch for ch in x if ch not in exclude) for x in output_sentences_test]"
      ],
      "execution_count": null,
      "outputs": []
    },
    {
      "cell_type": "code",
      "metadata": {
        "id": "Q1jHlvQanOoU"
      },
      "source": [
        "# print(input_sentences[19999])\n",
        "# print(output_sentences[19999])\n",
        "# print(output_sentences_inputs[19999])\n",
        "# print(input_sentences_test[0])\n",
        "# print(output_sentences_test[0])"
      ],
      "execution_count": null,
      "outputs": []
    },
    {
      "cell_type": "code",
      "metadata": {
        "id": "24s-hSREnKZx"
      },
      "source": [
        "input_tokens = set()\n",
        "target_tokens = set()\n",
        "\n",
        "for input in input_sentences:\n",
        "    for word in input.split():\n",
        "        if word not in input_tokens:\n",
        "            input_tokens.add(word)\n",
        "\n",
        "for target in output_sentences:\n",
        "    for word in target.split():\n",
        "        if word not in target_tokens:\n",
        "            target_tokens.add(word)\n",
        "\n",
        "# Add UNK token, in order to recognize unknown words we encountered\n",
        "input_tokens.add(\"unk\")\n",
        "target_tokens.add(\"unk\")    \n",
        "\n",
        "input_tokens = sorted(list(input_tokens))\n",
        "target_tokens = sorted(list(target_tokens))\n",
        "num_encoder_tokens = len(input_tokens)\n",
        "num_decoder_tokens = len(target_tokens)\n",
        "max_encoder_seq_length = max([len(re.findall(r\"[\\w']+|[^\\s\\w]\", input)) for input in input_sentences]) # The maximum length is computed by the words point of view\n",
        "max_decoder_seq_length = max([len(re.findall(r\"[\\w']+|[^\\s\\w]\", target)) for target in output_sentences]) # The maximum length is computed by the words point of view\n",
        "\n",
        "input_token_index = dict([(word, index) for index, word in enumerate(input_tokens)]) # Vocabulary of words for English sentences\n",
        "target_token_index = dict([(word, index) for index, word in enumerate(target_tokens)]) # Vocabulary of words for Italian sentences\n",
        "\n",
        "# Reverse-lookup token index to decode sequences back to something readable.\n",
        "reverse_input_word_index = dict((index, word) for word, index in input_token_index.items())\n",
        "reverse_target_word_index = dict((index, word) for word, index in target_token_index.items())"
      ],
      "execution_count": null,
      "outputs": []
    },
    {
      "cell_type": "code",
      "metadata": {
        "id": "eFt6wGBxq9z3"
      },
      "source": [
        "# print(input_tokens)\n",
        "# print(target_tokens)\n",
        "# print(max_encoder_seq_length)\n",
        "# print(max_decoder_seq_length)\n",
        "# print(input_token_index)\n",
        "# print(target_token_index)\n",
        "# print(reverse_input_word_index)\n",
        "# print(reverse_target_word_index)"
      ],
      "execution_count": null,
      "outputs": []
    },
    {
      "cell_type": "code",
      "metadata": {
        "id": "U8F3nPXYyTqw"
      },
      "source": [
        "encoder_input_data = np.zeros((len(input_sentences), max_encoder_seq_length), dtype='float32')\n",
        "decoder_input_data = np.zeros((len(output_sentences), max_decoder_seq_length), dtype='float32')\n",
        "decoder_target_data = np.zeros((len(output_sentences), max_decoder_seq_length, num_decoder_tokens), dtype='float32') # One-hot encoding\n",
        "\n",
        "for i, (input_text, target_text) in enumerate(zip(input_sentences, output_sentences)):\n",
        "    for t, word in enumerate(input_text.split()):\n",
        "        encoder_input_data[i, t] = input_token_index[word]\n",
        "    for t, word in enumerate(target_text.split()):\n",
        "        # decoder_target_data is ahead of decoder_input_data by one timestep\n",
        "        decoder_input_data[i, t] = target_token_index[word]\n",
        "        if t > 0:\n",
        "            # decoder_target_data will be ahead by one timestep and will not include the <sos> start character.\n",
        "            decoder_target_data[i, t - 1, target_token_index[word]] = 1."
      ],
      "execution_count": null,
      "outputs": []
    },
    {
      "cell_type": "code",
      "metadata": {
        "id": "q7rDXhFk0qBO"
      },
      "source": [
        "# print(encoder_input_data[0])\n",
        "# print(decoder_input_data[0])\n",
        "# print(decoder_target_data[0])\n",
        "\n",
        "# print(input_token_index[\"unk\"])\n",
        "# print(target_token_index[\"unk\"])\n",
        "# print(target_token_index[\"sos\"])\n",
        "# print(target_token_index[\"eos\"])"
      ],
      "execution_count": null,
      "outputs": []
    },
    {
      "cell_type": "code",
      "metadata": {
        "id": "4tBE_k3NCgmI"
      },
      "source": [
        "# For test\n",
        "test_sentences_data = np.zeros((NUMBER_SENTENCES_TEST, max_encoder_seq_length), dtype='float32')\n",
        "\n",
        "for i, test_text in enumerate(input_sentences_test):\n",
        "    for t, word in enumerate(test_text):\n",
        "        try:\n",
        "            test_sentences_data[i, t] = input_token_index[word]\n",
        "        except:\n",
        "            if t < max_encoder_seq_length:\n",
        "                test_sentences_data[i, t] = input_token_index[\"unk\"]\n",
        "            else:\n",
        "                break"
      ],
      "execution_count": null,
      "outputs": []
    },
    {
      "cell_type": "markdown",
      "metadata": {
        "id": "hq9FnDZTs7vn"
      },
      "source": [
        "Here we add  part about Word Embedding.\n",
        "\n",
        "We need to represent a word (that now is an integer) in a vector representation of whatever dimension. Indeed, word embeddings capture more info about words, for example it is able to understand the relationship between two words (how much are similar). We use Skip-gram Word2Vec for input word embeddings, whereas one-hot encoding for the output ones."
      ]
    },
    {
      "cell_type": "code",
      "metadata": {
        "id": "HPg-hmGqsxzK"
      },
      "source": [
        "# Target: offer to Word2Vec method a list of list of strings (as requested)\n",
        "# Ex. [[look at the dictionary], [hi mate]] --> [[look, at, the, dictionary], [hi, mate]]\n",
        "# tokenized_input_sentences = []\n",
        "# count_rows = 0\n",
        "# while count_rows < NUMBER_SENTENCES:\n",
        "#     sentence = encoder_input_data[count_rows]\n",
        "#     new_sentence = [None] * len(sentence)\n",
        "#     for it in range(len(sentence)):\n",
        "#         idx = sentence[it]\n",
        "#         word = reverse_input_word_index[idx]\n",
        "#         new_sentence[it] = word\n",
        "\n",
        "#     tokenized_input_sentences.append(new_sentence)\n",
        "#     count_rows += 1\n",
        "\n",
        "# word2vec_model = Word2Vec(tokenized_input_sentences, size=EMBEDDING_SIZE, min_count=1, workers=4, window=5, sg=1)\n",
        "\n",
        "# embedding_matrix = np.zeros((num_encoder_tokens, EMBEDDING_SIZE)) # It will be used to create the embedding layer for LSTM units in the attention model\n",
        "# for index in range(embedding_matrix.shape[0]):\n",
        "#     word = reverse_input_word_index[index]\n",
        "#     try:\n",
        "#         embedding_matrix[index] = word2vec_model.wv[word]\n",
        "#     except KeyError:\n",
        "#         continue"
      ],
      "execution_count": null,
      "outputs": []
    },
    {
      "cell_type": "code",
      "metadata": {
        "id": "STu6hb12tOJk"
      },
      "source": [
        "# Summarize vocabulary\n",
        "# words = list(word2vec_model.wv.index_to_key)\n",
        "# print(words)\n",
        "# Access vector for one word\n",
        "# print(word2vec_model.wv['trump'])\n",
        "\n",
        "# word2vec_model.save(\"Backup_Models/Word_Embeddings/Word2Vec_Embeddings.kv\")\n",
        "# word2vec_model = KeyedVectors.load(\"Backup_Models/Word_Embeddings/Word2Vec_Embeddings.kv\", mmap='r')"
      ],
      "execution_count": null,
      "outputs": []
    },
    {
      "cell_type": "code",
      "metadata": {
        "colab": {
          "base_uri": "https://localhost:8080/",
          "height": 1000
        },
        "id": "cb9UwAfd4dlR",
        "outputId": "ffaa6aeb-f340-4c86-e1f8-26b46c8e82cb"
      },
      "source": [
        "# Encoder\n",
        "encoder_inputs = Input(shape=(max_encoder_seq_length,))\n",
        "# encoder_embedding_layer = Embedding(num_encoder_tokens, EMBEDDING_SIZE, weights=[embedding_matrix], mask_zero=True, trainable=False) # Apply this row if you used the pre-defined word embeddings (two code blocks above)\n",
        "encoder_embedding_layer = Embedding(num_encoder_tokens, EMBEDDING_SIZE, trainable=True)\n",
        "encoder_embeddings = encoder_embedding_layer(encoder_inputs)\n",
        "encoder_lstm_layer = LSTM(LSTM_NODES, return_sequences=True, return_state=True)\n",
        "encoder_outputs, state_hidden, state_cell = encoder_lstm_layer(encoder_embeddings)\n",
        "encoder_states = [state_hidden, state_cell]\n",
        "\n",
        "# Decoder\n",
        "decoder_inputs = Input(shape=(max_decoder_seq_length,))\n",
        "decoder_embedding_layer = Embedding(num_decoder_tokens, LSTM_NODES, trainable=True)\n",
        "decoder_embeddings = decoder_embedding_layer(decoder_inputs)\n",
        "decoder_lstm_layer = LSTM(LSTM_NODES, return_sequences=True, return_state=True)\n",
        "decoder_outputs, _, _ = decoder_lstm_layer(decoder_embeddings, initial_state=encoder_states)\n",
        "\n",
        "# Set up the attention layer\n",
        "attention_layer = BahdanauAttention(LSTM_NODES)\n",
        "attention_output, attention_states = attention_layer(\n",
        "              query=decoder_outputs,\n",
        "              value=encoder_outputs,\n",
        "              mask=(encoder_input_data != 0))\n",
        "# Concat attention output and decoder LSTM output\n",
        "decoder_concat_input = Concatenate(axis=-1, name=\"concat_layer\")([decoder_outputs, attention_output])\n",
        "\n",
        "decoder_dense_layer = TimeDistributed(Dense(num_decoder_tokens, activation=\"softmax\")) # TimeDistributed layer is applied because decoder_outputs is used combined with attention_output at every input temporal slice\n",
        "decoder_outputs = decoder_dense_layer(decoder_concat_input)\n",
        "\n",
        "# Compile the model\n",
        "attention_model = Model([encoder_inputs, decoder_inputs], decoder_outputs)\n",
        "attention_model.compile(optimizer=\"rmsprop\", loss=\"categorical_crossentropy\", metrics=[\"accuracy\"]) \n",
        "\n",
        "attention_model.summary()\n",
        "plot_model(attention_model, to_file=\"training_model.png\", show_shapes=True, show_layer_names=True)"
      ],
      "execution_count": null,
      "outputs": [
        {
          "output_type": "stream",
          "name": "stdout",
          "text": [
            "Model: \"model_2\"\n",
            "__________________________________________________________________________________________________\n",
            " Layer (type)                   Output Shape         Param #     Connected to                     \n",
            "==================================================================================================\n",
            " input_5 (InputLayer)           [(None, 5)]          0           []                               \n",
            "                                                                                                  \n",
            " input_6 (InputLayer)           [(None, 9)]          0           []                               \n",
            "                                                                                                  \n",
            " embedding_4 (Embedding)        (None, 5, 100)       227900      ['input_5[0][0]']                \n",
            "                                                                                                  \n",
            " embedding_5 (Embedding)        (None, 9, 256)       1461504     ['input_6[0][0]']                \n",
            "                                                                                                  \n",
            " lstm_4 (LSTM)                  [(None, 5, 256),     365568      ['embedding_4[0][0]']            \n",
            "                                 (None, 256),                                                     \n",
            "                                 (None, 256)]                                                     \n",
            "                                                                                                  \n",
            " lstm_5 (LSTM)                  [(None, 9, 256),     525312      ['embedding_5[0][0]',            \n",
            "                                 (None, 256),                     'lstm_4[0][1]',                 \n",
            "                                 (None, 256)]                     'lstm_4[0][2]']                 \n",
            "                                                                                                  \n",
            " bahdanau_attention_2 (Bahdanau  ((20000, 9, 256),   131328      ['lstm_5[0][0]',                 \n",
            " Attention)                      (20000, 9, 5))                   'lstm_4[0][0]']                 \n",
            "                                                                                                  \n",
            " concat_layer (Concatenate)     (20000, 9, 512)      0           ['lstm_5[0][0]',                 \n",
            "                                                                  'bahdanau_attention_2[0][0]']   \n",
            "                                                                                                  \n",
            " time_distributed_2 (TimeDistri  (20000, 9, 5709)    2928717     ['concat_layer[0][0]']           \n",
            " buted)                                                                                           \n",
            "                                                                                                  \n",
            "==================================================================================================\n",
            "Total params: 5,640,329\n",
            "Trainable params: 5,640,329\n",
            "Non-trainable params: 0\n",
            "__________________________________________________________________________________________________\n"
          ]
        },
        {
          "output_type": "execute_result",
          "data": {
            "image/png": "[encoded data removed]",
            "text/plain": [
              "<IPython.core.display.Image object>"
            ]
          },
          "metadata": {},
          "execution_count": 14
        }
      ]
    },
    {
      "cell_type": "code",
      "metadata": {
        "id": "g0LKZBa06Yjh"
      },
      "source": [
        "callbacks = [\n",
        "    EarlyStopping(monitor='val_loss', patience=15, restore_best_weights=True), # If the validation loss value does not improve within 15 epochs, stop the training\n",
        "    ModelCheckpoint(\"/content/drive/My Drive/Colab Notebooks/Advanced_Topics_on_Computer_Science/My_Project/Word_Level_Attention_Model.h5\", save_best_only=True) # Change path if you run this code in another location     \n",
        "]\n",
        "\n",
        "# Train the model\n",
        "history = attention_model.fit(\n",
        "    [encoder_input_data, decoder_input_data], \n",
        "    decoder_target_data,\n",
        "    batch_size=BATCH_SIZE,\n",
        "    epochs=EPOCHS,\n",
        "    validation_split=0.1,\n",
        "    callbacks=[callbacks]\n",
        ")"
      ],
      "execution_count": null,
      "outputs": []
    },
    {
      "cell_type": "code",
      "metadata": {
        "id": "dsCmh18Y91P1"
      },
      "source": [
        "# Save the model\n",
        "# attention_model.save(\"/content/drive/My Drive/Colab Notebooks/Advanced_Topics_on_Computer_Science/My_Project/Saved_Models/Word_Level_Attention_Model.h5\") "
      ],
      "execution_count": null,
      "outputs": []
    },
    {
      "cell_type": "code",
      "metadata": {
        "id": "UqjT5VOy9-29"
      },
      "source": [
        "# Load the model\n",
        "# attention_model = load_model(\"/content/drive/My Drive/Colab Notebooks/Advanced_Topics_on_Computer_Science/My_Project/Saved_Models/Word_Level_Attention_Model.h5\")"
      ],
      "execution_count": null,
      "outputs": []
    },
    {
      "cell_type": "code",
      "metadata": {
        "id": "Oejn2krXDvOo"
      },
      "source": [
        "def plot_accuracy(history):\n",
        "    plt.figure(figsize=(10, 5))\n",
        "    plt.plot(history.epoch, history.history['accuracy'], label='training accuracy')\n",
        "    plt.plot(history.epoch, history.history['val_accuracy'], label='validation accuracy')\n",
        "    plt.legend()\n",
        "    plt.title('Accuracy trend')\n",
        "    plt.grid(True)\n",
        "    plt.show()\n",
        "\n",
        "def plot_loss(history):\n",
        "    plt.figure(figsize=(10, 5))\n",
        "    plt.plot(history.epoch,history.history['loss'], label='training loss')\n",
        "    plt.plot(history.epoch,history.history['val_loss'], label='validation loss')\n",
        "    plt.legend()\n",
        "    plt.title('Loss trend')\n",
        "    plt.grid(True)\n",
        "    plt.show()\n",
        "\n",
        "plot_accuracy(history)\n",
        "print(\"\\n\")\n",
        "plot_loss(history)"
      ],
      "execution_count": null,
      "outputs": []
    },
    {
      "cell_type": "markdown",
      "metadata": {
        "id": "p4gxHaFv1pHD"
      },
      "source": [
        "Inference model (TO MODIFY)"
      ]
    },
    {
      "cell_type": "code",
      "metadata": {
        "id": "JoFUQSiUzPOT"
      },
      "source": [
        "# Set up the encoder\n",
        "encoder_inputs = attention_model.input[0]\n",
        "encoder_outputs, state_hidden_enc, state_cell_enc = attention_model.layers[4].output\n",
        "encoder_states = [state_hidden_enc, state_cell_enc]\n",
        "encoder_test_model = Model(encoder_inputs, encoder_states)\n",
        "\n",
        "# Set up the decoder\n",
        "decoder_inputs_single = attention_model.input[1] # At each time step, only single word in the decoder input\n",
        "decoder_state_input_hidden = Input(shape=(LSTM_NODES,))\n",
        "decoder_state_input_cell = Input(shape=(LSTM_NODES,))\n",
        "decoder_states_inputs = [decoder_state_input_hidden, decoder_state_input_cell]\n",
        "decoder_embedding_layer = attention_model.layers[3]\n",
        "decoder_inputs_single_x = decoder_embedding_layer(decoder_inputs_single)\n",
        "decoder_lstm_layer = attention_model.layers[5]\n",
        "decoder_partial_outputs, state_hidden_dec, state_cell_dec = decoder_lstm_layer(decoder_inputs_single_x, initial_state=decoder_states_inputs)\n",
        "decoder_states = [state_hidden_dec, state_cell_dec]\n",
        "decoder_dense_layer = attention_model.layers[6]\n",
        "decoder_outputs = decoder_dense_layer(decoder_partial_outputs)\n",
        "decoder_test_model = Model([decoder_inputs_single] + decoder_states_inputs, [decoder_outputs] + decoder_states)"
      ],
      "execution_count": null,
      "outputs": []
    },
    {
      "cell_type": "code",
      "metadata": {
        "id": "kzWbgSvP2MQn"
      },
      "source": [
        "encoder_test_model.summary()\n",
        "plot_model(encoder_test_model, to_file=\"encoder_test_model.png\", show_shapes=True, show_layer_names=True)"
      ],
      "execution_count": null,
      "outputs": []
    },
    {
      "cell_type": "code",
      "metadata": {
        "id": "Mbbfh8v8FueB"
      },
      "source": [
        "decoder_test_model.summary()\n",
        "plot_model(decoder_test_model, to_file=\"decoder_test_model.png\", show_shapes=True, show_layer_names=True)"
      ],
      "execution_count": null,
      "outputs": []
    },
    {
      "cell_type": "code",
      "metadata": {
        "id": "-BzVqRUX6pdq"
      },
      "source": [
        "def decode_sequence(input_sequence):\n",
        "    # Encode the input as state vectors.\n",
        "    states_value = encoder_test_model.predict(input_sequence)\n",
        "    # Generate empty target sequence of length 1.\n",
        "    target_sequence = np.zeros((1,1))\n",
        "    # Populate the first character of target sequence with the start character.\n",
        "    target_sequence[0, 0] = target_token_index[\"sos\"]\n",
        "\n",
        "    # Sampling loop for a batch of sequences (to simplify, here we assume a batch of size 1).\n",
        "    stop_condition = False\n",
        "    output_sentence = []\n",
        "    while not stop_condition:\n",
        "        output_tokens, state_hidden, state_cell = decoder_test_model.predict([target_sequence] + states_value)\n",
        "\n",
        "        # Sample a token\n",
        "        sampled_token_index = np.argmax(output_tokens[0, -1, :])\n",
        "        sampled_word = reverse_target_word_index[sampled_token_index]\n",
        "\n",
        "        # Exit condition: either hit max length or find stop character.\n",
        "        if sampled_word == \"eos\" or len(output_sentence) > max_decoder_seq_length:\n",
        "            stop_condition = True\n",
        "        else:\n",
        "            output_sentence.append(sampled_word)\n",
        "\n",
        "            # Update the target sequence (of length 1).\n",
        "            target_seq = np.zeros((1,1))\n",
        "            target_seq[0, 0] = sampled_token_index\n",
        "\n",
        "            # Update states\n",
        "            states_value = [state_hidden, state_cell]\n",
        "\n",
        "    return output_sentence"
      ],
      "execution_count": null,
      "outputs": []
    },
    {
      "cell_type": "code",
      "metadata": {
        "id": "-Q9H0q696yym"
      },
      "source": [
        "input_sentences_splitted = [] # A list containing all the input sentences splitted, as requested for the BLEU computation\n",
        "predicted_sentences_splitted = [] # A list containing all the translated sentences splitted, as requested for the BLEU computation\n",
        "\n",
        "for index in range(NUMBER_SENTENCES_TEST):\n",
        "    input_sequence = test_sentences_data[index : index + 1]\n",
        "    predicted_sentence = decode_sequence(input_sequence)\n",
        "\n",
        "    input_sentences_splitted.append([input_sentences_test[index].split()])\n",
        "    predicted_sentences_splitted.append(\" \".join(predicted_sentence).split())"
      ],
      "execution_count": null,
      "outputs": []
    },
    {
      "cell_type": "code",
      "metadata": {
        "id": "qvyNZSIcK3fV"
      },
      "source": [
        "predicted_sentences = [] # A list containing all the translated sentences\n",
        "\n",
        "for index in range(len(predicted_sentences_splitted)):\n",
        "    predicted_sentences.append(\" \".join(predicted_sentences_splitted[index]))\n",
        "\n",
        "for index in range(NUMBER_SENTENCES_TEST):\n",
        "    print(\"Sentence n.\", index)\n",
        "    print(\"-\")\n",
        "    print(\"Input sentence:\", input_sentences_test[index])\n",
        "    print(\"Target sentence:\", output_sentences_test[index])\n",
        "    print(\"Decoded sentence:\", predicted_sentences[index])\n",
        "    print(\"\\n\")"
      ],
      "execution_count": null,
      "outputs": []
    },
    {
      "cell_type": "code",
      "metadata": {
        "id": "8kc5DmCAsDhW"
      },
      "source": [
        "# Save predictions in a file\n",
        "predictions_text = open(os.path.join('Predictions_Word_Level_Attention.txt'), 'x', encoding='utf-8')\n",
        "for sentence in predicted_sentences_splitted:\n",
        "    predictions_text.write(str(sentence) + \"\\n\")\n",
        "\n",
        "# Load prediction from the file\n",
        "# predicted_sentences = []\n",
        "# with open(os.path.join('Predictions_Word_Level_Attention.txt'), 'r', encoding='utf-8') as f:\n",
        "#     predicted_sentences.append(\" \".join(f.readline().rstrip()))"
      ],
      "execution_count": null,
      "outputs": []
    },
    {
      "cell_type": "code",
      "metadata": {
        "id": "bX3NPg6psG1B"
      },
      "source": [
        "def compute_bleu_score(input_sentences, predicted_sentences):\n",
        "    bleu_scores = {}\n",
        "\n",
        "    bleu_scores['1-grams'] = corpus_bleu(input_sentences, predicted_sentences, weights=(1.0, 0, 0, 0), smoothing_function=SmoothingFunction().method7)\n",
        "    bleu_scores['2-grams'] = corpus_bleu(input_sentences, predicted_sentences, weights=(0.5, 0.5, 0, 0), smoothing_function=SmoothingFunction().method7)\n",
        "    bleu_scores['3-grams'] = corpus_bleu(input_sentences, predicted_sentences, weights=(0.3, 0.3, 0.3, 0), smoothing_function=SmoothingFunction().method7)\n",
        "    bleu_scores['4-grams'] = corpus_bleu(input_sentences, predicted_sentences, weights=(0.25, 0.25, 0.25, 0.25), smoothing_function=SmoothingFunction().method7)\n",
        "\n",
        "    return bleu_scores\n",
        "\n",
        "# bleu_train = bleu_score(model, tar_tokenizer, trainX, train)\n",
        "bleu_scores_test = compute_bleu_score(input_sentences_splitted, predicted_sentences_splitted)"
      ],
      "execution_count": null,
      "outputs": []
    },
    {
      "cell_type": "code",
      "metadata": {
        "id": "myrDTNHesLLm"
      },
      "source": [
        "print(bleu_scores_test)"
      ],
      "execution_count": null,
      "outputs": []
    },
    {
      "cell_type": "code",
      "metadata": {
        "id": "PBjaQnltsN0e"
      },
      "source": [
        "plt.bar(x = bleu_scores_test.keys(), height = bleu_scores_test.values())\n",
        "plt.title(\"BLEU Score with the test set\")\n",
        "plt.ylim((0,1))\n",
        "plt.show()"
      ],
      "execution_count": null,
      "outputs": []
    }
  ]
}